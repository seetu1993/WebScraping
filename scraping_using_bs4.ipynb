{
 "cells": [
  {
   "cell_type": "code",
   "execution_count": 1,
   "metadata": {},
   "outputs": [
    {
     "name": "stdout",
     "output_type": "stream",
     "text": [
      "Collecting bs4\n",
      "  Downloading bs4-0.0.1.tar.gz (1.1 kB)\n",
      "Requirement already satisfied: beautifulsoup4 in c:\\users\\seetu\\anaconda3\\lib\\site-packages (from bs4) (4.8.2)\n",
      "Requirement already satisfied: soupsieve>=1.2 in c:\\users\\seetu\\anaconda3\\lib\\site-packages (from beautifulsoup4->bs4) (1.9.5)\n",
      "Building wheels for collected packages: bs4\n",
      "  Building wheel for bs4 (setup.py): started\n",
      "  Building wheel for bs4 (setup.py): finished with status 'done'\n",
      "  Created wheel for bs4: filename=bs4-0.0.1-py3-none-any.whl size=1279 sha256=4b01c2a3a263dbd6deac20f7b98b6f654c96baebcf3cfcc82f381c39e883a143\n",
      "  Stored in directory: c:\\users\\seetu\\appdata\\local\\pip\\cache\\wheels\\0a\\9e\\ba\\20e5bbc1afef3a491f0b3bb74d508f99403aabe76eda2167ca\n",
      "Successfully built bs4\n",
      "Installing collected packages: bs4\n",
      "Successfully installed bs4-0.0.1\n"
     ]
    }
   ],
   "source": [
    "!pip install bs4"
   ]
  },
  {
   "cell_type": "code",
   "execution_count": 2,
   "metadata": {},
   "outputs": [],
   "source": [
    "from urllib.request import urlopen"
   ]
  },
  {
   "cell_type": "code",
   "execution_count": 3,
   "metadata": {},
   "outputs": [],
   "source": [
    "android_url =\"https://en.wikipedia.org/wiki/Android_version_history\""
   ]
  },
  {
   "cell_type": "code",
   "execution_count": 7,
   "metadata": {},
   "outputs": [],
   "source": [
    "android_data = urlopen(android_url)"
   ]
  },
  {
   "cell_type": "code",
   "execution_count": 8,
   "metadata": {},
   "outputs": [
    {
     "name": "stdout",
     "output_type": "stream",
     "text": [
      "<class 'http.client.HTTPResponse'>\n"
     ]
    }
   ],
   "source": [
    "print(type(android_data))"
   ]
  },
  {
   "cell_type": "code",
   "execution_count": 9,
   "metadata": {},
   "outputs": [],
   "source": [
    "android_html = android_data.read()"
   ]
  },
  {
   "cell_type": "code",
   "execution_count": null,
   "metadata": {},
   "outputs": [],
   "source": []
  },
  {
   "cell_type": "code",
   "execution_count": 11,
   "metadata": {},
   "outputs": [],
   "source": [
    "android_data.close()"
   ]
  },
  {
   "cell_type": "code",
   "execution_count": 15,
   "metadata": {},
   "outputs": [],
   "source": [
    "from bs4 import BeautifulSoup as soup"
   ]
  },
  {
   "cell_type": "code",
   "execution_count": 56,
   "metadata": {},
   "outputs": [],
   "source": [
    "android_soup = soup(android_html,'html.parser')\n"
   ]
  },
  {
   "cell_type": "code",
   "execution_count": 17,
   "metadata": {},
   "outputs": [
    {
     "name": "stdout",
     "output_type": "stream",
     "text": [
      "<class 'bs4.BeautifulSoup'>\n"
     ]
    }
   ],
   "source": [
    "print(type(android_soup))"
   ]
  },
  {
   "cell_type": "code",
   "execution_count": 18,
   "metadata": {},
   "outputs": [
    {
     "data": {
      "text/plain": [
       "<h1 class=\"firstHeading\" id=\"firstHeading\" lang=\"en\">Android version history</h1>"
      ]
     },
     "execution_count": 18,
     "metadata": {},
     "output_type": "execute_result"
    }
   ],
   "source": [
    "android_soup.h1"
   ]
  },
  {
   "cell_type": "code",
   "execution_count": 19,
   "metadata": {},
   "outputs": [
    {
     "data": {
      "text/plain": [
       "[<h1 class=\"firstHeading\" id=\"firstHeading\" lang=\"en\">Android version history</h1>]"
      ]
     },
     "execution_count": 19,
     "metadata": {},
     "output_type": "execute_result"
    }
   ],
   "source": [
    "android_soup.findAll('h1',{})"
   ]
  },
  {
   "cell_type": "code",
   "execution_count": 20,
   "metadata": {},
   "outputs": [],
   "source": [
    "tables = android_soup.findAll('table',{'class':'wikitable'})"
   ]
  },
  {
   "cell_type": "code",
   "execution_count": 21,
   "metadata": {},
   "outputs": [
    {
     "name": "stdout",
     "output_type": "stream",
     "text": [
      "31\n"
     ]
    }
   ],
   "source": [
    "print(len(tables))"
   ]
  },
  {
   "cell_type": "code",
   "execution_count": 22,
   "metadata": {},
   "outputs": [],
   "source": [
    "android_table = tables[0]"
   ]
  },
  {
   "cell_type": "code",
   "execution_count": 23,
   "metadata": {},
   "outputs": [
    {
     "name": "stdout",
     "output_type": "stream",
     "text": [
      "<table class=\"wikitable\">\n",
      "<tbody><tr>\n",
      "<th>Name\n",
      "</th>\n",
      "<th>Version number(s)\n",
      "</th>\n",
      "<th>Initial stable<br/>release date\n",
      "</th>\n",
      "<th>Supported (security fixes)\n",
      "</th>\n",
      "<th>API level\n",
      "</th>\n",
      "<th>References\n",
      "</th></tr>\n",
      "<tr>\n",
      "<td rowspan=\"2\">No official codename\n",
      "</td>\n",
      "<td>1.0\n",
      "</td>\n",
      "<td>September 23, 2008\n",
      "</td>\n",
      "<td class=\"table-no\" style=\"background:#F99;vertical-align:middle;text-align:center;\">No\n",
      "</td>\n",
      "<td>1\n",
      "</td>\n",
      "<td><sup class=\"reference\" id=\"cite_ref-unofficial_and_official_codenames_9-1\"><a href=\"#cite_note-unofficial_and_official_codenames-9\">[9]</a></sup>\n",
      "</td></tr>\n",
      "<tr>\n",
      "<td>1.1\n",
      "</td>\n",
      "<td>February 9, 2009\n",
      "</td>\n",
      "<td class=\"table-no\" style=\"background:#F99;vertical-align:middle;text-align:center;\">No\n",
      "</td>\n",
      "<td>2\n",
      "</td>\n",
      "<td><sup class=\"reference\" id=\"cite_ref-unofficial_and_official_codenames_9-2\"><a href=\"#cite_note-unofficial_and_official_codenames-9\">[9]</a></sup><sup class=\"reference\" id=\"cite_ref-14\"><a href=\"#cite_note-14\">[14]</a></sup>\n",
      "</td></tr>\n",
      "<tr>\n",
      "<td><a href=\"/wiki/Android_Cupcake\" title=\"Android Cupcake\">Cupcake</a>\n",
      "</td>\n",
      "<td>1.5\n",
      "</td>\n",
      "<td>April 27, 2009\n",
      "</td>\n",
      "<td class=\"table-no\" style=\"background:#F99;vertical-align:middle;text-align:center;\">No\n",
      "</td>\n",
      "<td>3\n",
      "</td>\n",
      "<td><sup class=\"reference\" id=\"cite_ref-15\"><a href=\"#cite_note-15\">[15]</a></sup>\n",
      "</td></tr>\n",
      "<tr>\n",
      "<td><a href=\"/wiki/Android_Donut\" title=\"Android Donut\">Donut</a>\n",
      "</td>\n",
      "<td>1.6\n",
      "</td>\n",
      "<td>September 15, 2009\n",
      "</td>\n",
      "<td class=\"table-no\" style=\"background:#F99;vertical-align:middle;text-align:center;\">No\n",
      "</td>\n",
      "<td>4\n",
      "</td>\n",
      "<td><sup class=\"reference\" id=\"cite_ref-16\"><a href=\"#cite_note-16\">[16]</a></sup>\n",
      "</td></tr>\n",
      "<tr>\n",
      "<td><a href=\"/wiki/Android_Eclair\" title=\"Android Eclair\">Eclair</a>\n",
      "</td>\n",
      "<td>2.0 – 2.1\n",
      "</td>\n",
      "<td>October 26, 2009\n",
      "</td>\n",
      "<td class=\"table-no\" style=\"background:#F99;vertical-align:middle;text-align:center;\">No\n",
      "</td>\n",
      "<td>5 – 7\n",
      "</td>\n",
      "<td><sup class=\"reference\" id=\"cite_ref-17\"><a href=\"#cite_note-17\">[17]</a></sup>\n",
      "</td></tr>\n",
      "<tr>\n",
      "<td><a href=\"/wiki/Android_Froyo\" title=\"Android Froyo\">Froyo</a>\n",
      "</td>\n",
      "<td>2.2 – 2.2.3\n",
      "</td>\n",
      "<td>May 20, 2010\n",
      "</td>\n",
      "<td class=\"table-no\" style=\"background:#F99;vertical-align:middle;text-align:center;\">No\n",
      "</td>\n",
      "<td>8\n",
      "</td>\n",
      "<td><sup class=\"reference\" id=\"cite_ref-18\"><a href=\"#cite_note-18\">[18]</a></sup>\n",
      "</td></tr>\n",
      "<tr>\n",
      "<td><a href=\"/wiki/Android_Gingerbread\" title=\"Android Gingerbread\">Gingerbread</a>\n",
      "</td>\n",
      "<td>2.3 – 2.3.7\n",
      "</td>\n",
      "<td>December 6, 2010\n",
      "</td>\n",
      "<td class=\"table-no\" style=\"background:#F99;vertical-align:middle;text-align:center;\">No\n",
      "</td>\n",
      "<td>9 – 10\n",
      "</td>\n",
      "<td><sup class=\"reference\" id=\"cite_ref-19\"><a href=\"#cite_note-19\">[19]</a></sup>\n",
      "</td></tr>\n",
      "<tr>\n",
      "<td><a href=\"/wiki/Android_Honeycomb\" title=\"Android Honeycomb\">Honeycomb</a>\n",
      "</td>\n",
      "<td>3.0 – 3.2.6\n",
      "</td>\n",
      "<td>February 22, 2011\n",
      "</td>\n",
      "<td class=\"table-no\" style=\"background:#F99;vertical-align:middle;text-align:center;\">No\n",
      "</td>\n",
      "<td>11 – 13\n",
      "</td>\n",
      "<td><sup class=\"reference\" id=\"cite_ref-20\"><a href=\"#cite_note-20\">[20]</a></sup>\n",
      "</td></tr>\n",
      "<tr>\n",
      "<td><a href=\"/wiki/Android_Ice_Cream_Sandwich\" title=\"Android Ice Cream Sandwich\">Ice Cream Sandwich</a>\n",
      "</td>\n",
      "<td>4.0 – 4.0.4\n",
      "</td>\n",
      "<td>October 18, 2011\n",
      "</td>\n",
      "<td class=\"table-no\" style=\"background:#F99;vertical-align:middle;text-align:center;\">No\n",
      "</td>\n",
      "<td>14 – 15\n",
      "</td>\n",
      "<td><sup class=\"reference\" id=\"cite_ref-21\"><a href=\"#cite_note-21\">[21]</a></sup>\n",
      "</td></tr>\n",
      "<tr>\n",
      "<td><a href=\"/wiki/Android_Jelly_Bean\" title=\"Android Jelly Bean\">Jelly Bean</a>\n",
      "</td>\n",
      "<td>4.1 – 4.3.1\n",
      "</td>\n",
      "<td>July 9, 2012\n",
      "</td>\n",
      "<td class=\"table-no\" style=\"background:#F99;vertical-align:middle;text-align:center;\">No\n",
      "</td>\n",
      "<td>16 – 18\n",
      "</td>\n",
      "<td><sup class=\"reference\" id=\"cite_ref-22\"><a href=\"#cite_note-22\">[22]</a></sup>\n",
      "</td></tr>\n",
      "<tr>\n",
      "<td><a href=\"/wiki/Android_KitKat\" title=\"Android KitKat\">KitKat</a>\n",
      "</td>\n",
      "<td>4.4 – 4.4.4\n",
      "</td>\n",
      "<td>October 31, 2013\n",
      "</td>\n",
      "<td class=\"table-no\" style=\"background:#F99;vertical-align:middle;text-align:center;\">No\n",
      "</td>\n",
      "<td>19 – 20\n",
      "</td>\n",
      "<td><sup class=\"reference\" id=\"cite_ref-23\"><a href=\"#cite_note-23\">[23]</a></sup>\n",
      "</td></tr>\n",
      "<tr>\n",
      "<td><a href=\"/wiki/Android_Lollipop\" title=\"Android Lollipop\">Lollipop</a>\n",
      "</td>\n",
      "<td>5.0 – 5.1.1\n",
      "</td>\n",
      "<td>November 12, 2014\n",
      "</td>\n",
      "<td class=\"table-no\" style=\"background:#F99;vertical-align:middle;text-align:center;\">No\n",
      "</td>\n",
      "<td>21 – 22\n",
      "</td>\n",
      "<td><sup class=\"reference\" id=\"cite_ref-24\"><a href=\"#cite_note-24\">[24]</a></sup>\n",
      "</td></tr>\n",
      "<tr>\n",
      "<td><a href=\"/wiki/Android_Marshmallow\" title=\"Android Marshmallow\">Marshmallow</a>\n",
      "</td>\n",
      "<td>6.0 – 6.0.1\n",
      "</td>\n",
      "<td>October 5, 2015\n",
      "</td>\n",
      "<td class=\"table-no\" style=\"background:#F99;vertical-align:middle;text-align:center;\">No\n",
      "</td>\n",
      "<td>23\n",
      "</td>\n",
      "<td><sup class=\"reference\" id=\"cite_ref-25\"><a href=\"#cite_note-25\">[25]</a></sup>\n",
      "</td></tr>\n",
      "<tr>\n",
      "<td><a href=\"/wiki/Android_Nougat\" title=\"Android Nougat\">Nougat</a>\n",
      "</td>\n",
      "<td>7.0 – 7.1.2\n",
      "</td>\n",
      "<td>August 22, 2016\n",
      "</td>\n",
      "<td class=\"table-no\" style=\"background:#F99;vertical-align:middle;text-align:center;\">No\n",
      "</td>\n",
      "<td>24 – 25\n",
      "</td>\n",
      "<td><sup class=\"reference\" id=\"cite_ref-26\"><a href=\"#cite_note-26\">[26]</a></sup><sup class=\"reference\" id=\"cite_ref-27\"><a href=\"#cite_note-27\">[27]</a></sup><sup class=\"reference\" id=\"cite_ref-28\"><a href=\"#cite_note-28\">[28]</a></sup><sup class=\"reference\" id=\"cite_ref-29\"><a href=\"#cite_note-29\">[29]</a></sup>\n",
      "</td></tr>\n",
      "<tr>\n",
      "<td><a href=\"/wiki/Android_Oreo\" title=\"Android Oreo\">Oreo</a>\n",
      "</td>\n",
      "<td>8.0 – 8.1\n",
      "</td>\n",
      "<td>August 21, 2017\n",
      "</td>\n",
      "<td class=\"table-yes\" style=\"background:#9F9;vertical-align:middle;text-align:center;\">Yes\n",
      "</td>\n",
      "<td>26 – 27\n",
      "</td>\n",
      "<td><sup class=\"reference\" id=\"cite_ref-30\"><a href=\"#cite_note-30\">[30]</a></sup>\n",
      "</td></tr>\n",
      "<tr>\n",
      "<td><a href=\"/wiki/Android_Pie\" title=\"Android Pie\">Pie</a>\n",
      "</td>\n",
      "<td>9\n",
      "</td>\n",
      "<td>August 6, 2018\n",
      "</td>\n",
      "<td class=\"table-yes\" style=\"background:#9F9;vertical-align:middle;text-align:center;\">Yes\n",
      "</td>\n",
      "<td>28\n",
      "</td>\n",
      "<td><sup class=\"reference\" id=\"cite_ref-31\"><a href=\"#cite_note-31\">[31]</a></sup>\n",
      "</td></tr>\n",
      "<tr>\n",
      "<td><a href=\"/wiki/Android_10\" title=\"Android 10\">Android 10</a>\n",
      "</td>\n",
      "<td>10\n",
      "</td>\n",
      "<td>September 3, 2019\n",
      "</td>\n",
      "<td class=\"table-yes\" style=\"background:#9F9;vertical-align:middle;text-align:center;\">Yes\n",
      "</td>\n",
      "<td>29\n",
      "</td>\n",
      "<td><sup class=\"reference\" id=\"cite_ref-32\"><a href=\"#cite_note-32\">[32]</a></sup>\n",
      "</td></tr>\n",
      "<tr>\n",
      "<td><a href=\"/wiki/Android_11\" title=\"Android 11\">Android 11</a>\n",
      "</td>\n",
      "<td>11\n",
      "</td>\n",
      "<td><sup class=\"noprint Inline-Template\" style=\"white-space:nowrap;\">[<i><a href=\"/wiki/Wikipedia:What_Wikipedia_is_not#Wikipedia_is_not_a_crystal_ball\" title=\"Wikipedia:What Wikipedia is not\"><span title=\"A number, date or other piece of information needs to be added.\">to be determined</span></a></i>]</sup>\n",
      "</td>\n",
      "<td class=\"beta table-beta\" style=\"background: #DFDFFF; color: black; vertical-align: middle; text-align: center;\"><a href=\"/wiki/Software_release_life_cycle#Beta\" title=\"Software release life cycle\">Beta</a>\n",
      "</td>\n",
      "<td>30\n",
      "</td>\n",
      "<td><sup class=\"reference\" id=\"cite_ref-33\"><a href=\"#cite_note-33\">[33]</a></sup>\n",
      "</td></tr></tbody></table>\n"
     ]
    }
   ],
   "source": [
    "print(android_table)"
   ]
  },
  {
   "cell_type": "code",
   "execution_count": 25,
   "metadata": {},
   "outputs": [
    {
     "name": "stdout",
     "output_type": "stream",
     "text": [
      "[<th>Name\n",
      "</th>, <th>Version number(s)\n",
      "</th>, <th>Initial stable<br/>release date\n",
      "</th>, <th>Supported (security fixes)\n",
      "</th>, <th>API level\n",
      "</th>, <th>References\n",
      "</th>]\n"
     ]
    }
   ],
   "source": [
    "headers = android_table.findAll('th')\n",
    "print(headers)"
   ]
  },
  {
   "cell_type": "code",
   "execution_count": 26,
   "metadata": {},
   "outputs": [
    {
     "name": "stdout",
     "output_type": "stream",
     "text": [
      "Name\n",
      "\n"
     ]
    }
   ],
   "source": [
    "print(headers[0].text)"
   ]
  },
  {
   "cell_type": "code",
   "execution_count": 28,
   "metadata": {},
   "outputs": [],
   "source": [
    "column_titles = [ct.text for ct in headers]"
   ]
  },
  {
   "cell_type": "code",
   "execution_count": 29,
   "metadata": {},
   "outputs": [
    {
     "name": "stdout",
     "output_type": "stream",
     "text": [
      "['Name\\n', 'Version number(s)\\n', 'Initial stablerelease date\\n', 'Supported (security fixes)\\n', 'API level\\n', 'References\\n']\n"
     ]
    }
   ],
   "source": [
    "print(column_titles)"
   ]
  },
  {
   "cell_type": "code",
   "execution_count": 30,
   "metadata": {},
   "outputs": [
    {
     "name": "stdout",
     "output_type": "stream",
     "text": [
      "['Name', 'Version number(s)', 'Initial stablerelease date', 'Supported (security fixes)', 'API level', 'References']\n"
     ]
    }
   ],
   "source": [
    "column_titles = [ct.text[:-1] for ct in headers]\n",
    "print(column_titles)"
   ]
  },
  {
   "cell_type": "code",
   "execution_count": 34,
   "metadata": {},
   "outputs": [
    {
     "name": "stdout",
     "output_type": "stream",
     "text": [
      "[<tr>\n",
      "<td rowspan=\"2\">No official codename\n",
      "</td>\n",
      "<td>1.0\n",
      "</td>\n",
      "<td>September 23, 2008\n",
      "</td>\n",
      "<td class=\"table-no\" style=\"background:#F99;vertical-align:middle;text-align:center;\">No\n",
      "</td>\n",
      "<td>1\n",
      "</td>\n",
      "<td><sup class=\"reference\" id=\"cite_ref-unofficial_and_official_codenames_9-1\"><a href=\"#cite_note-unofficial_and_official_codenames-9\">[9]</a></sup>\n",
      "</td></tr>, <tr>\n",
      "<td>1.1\n",
      "</td>\n",
      "<td>February 9, 2009\n",
      "</td>\n",
      "<td class=\"table-no\" style=\"background:#F99;vertical-align:middle;text-align:center;\">No\n",
      "</td>\n",
      "<td>2\n",
      "</td>\n",
      "<td><sup class=\"reference\" id=\"cite_ref-unofficial_and_official_codenames_9-2\"><a href=\"#cite_note-unofficial_and_official_codenames-9\">[9]</a></sup><sup class=\"reference\" id=\"cite_ref-14\"><a href=\"#cite_note-14\">[14]</a></sup>\n",
      "</td></tr>, <tr>\n",
      "<td><a href=\"/wiki/Android_Cupcake\" title=\"Android Cupcake\">Cupcake</a>\n",
      "</td>\n",
      "<td>1.5\n",
      "</td>\n",
      "<td>April 27, 2009\n",
      "</td>\n",
      "<td class=\"table-no\" style=\"background:#F99;vertical-align:middle;text-align:center;\">No\n",
      "</td>\n",
      "<td>3\n",
      "</td>\n",
      "<td><sup class=\"reference\" id=\"cite_ref-15\"><a href=\"#cite_note-15\">[15]</a></sup>\n",
      "</td></tr>, <tr>\n",
      "<td><a href=\"/wiki/Android_Donut\" title=\"Android Donut\">Donut</a>\n",
      "</td>\n",
      "<td>1.6\n",
      "</td>\n",
      "<td>September 15, 2009\n",
      "</td>\n",
      "<td class=\"table-no\" style=\"background:#F99;vertical-align:middle;text-align:center;\">No\n",
      "</td>\n",
      "<td>4\n",
      "</td>\n",
      "<td><sup class=\"reference\" id=\"cite_ref-16\"><a href=\"#cite_note-16\">[16]</a></sup>\n",
      "</td></tr>, <tr>\n",
      "<td><a href=\"/wiki/Android_Eclair\" title=\"Android Eclair\">Eclair</a>\n",
      "</td>\n",
      "<td>2.0 – 2.1\n",
      "</td>\n",
      "<td>October 26, 2009\n",
      "</td>\n",
      "<td class=\"table-no\" style=\"background:#F99;vertical-align:middle;text-align:center;\">No\n",
      "</td>\n",
      "<td>5 – 7\n",
      "</td>\n",
      "<td><sup class=\"reference\" id=\"cite_ref-17\"><a href=\"#cite_note-17\">[17]</a></sup>\n",
      "</td></tr>, <tr>\n",
      "<td><a href=\"/wiki/Android_Froyo\" title=\"Android Froyo\">Froyo</a>\n",
      "</td>\n",
      "<td>2.2 – 2.2.3\n",
      "</td>\n",
      "<td>May 20, 2010\n",
      "</td>\n",
      "<td class=\"table-no\" style=\"background:#F99;vertical-align:middle;text-align:center;\">No\n",
      "</td>\n",
      "<td>8\n",
      "</td>\n",
      "<td><sup class=\"reference\" id=\"cite_ref-18\"><a href=\"#cite_note-18\">[18]</a></sup>\n",
      "</td></tr>, <tr>\n",
      "<td><a href=\"/wiki/Android_Gingerbread\" title=\"Android Gingerbread\">Gingerbread</a>\n",
      "</td>\n",
      "<td>2.3 – 2.3.7\n",
      "</td>\n",
      "<td>December 6, 2010\n",
      "</td>\n",
      "<td class=\"table-no\" style=\"background:#F99;vertical-align:middle;text-align:center;\">No\n",
      "</td>\n",
      "<td>9 – 10\n",
      "</td>\n",
      "<td><sup class=\"reference\" id=\"cite_ref-19\"><a href=\"#cite_note-19\">[19]</a></sup>\n",
      "</td></tr>, <tr>\n",
      "<td><a href=\"/wiki/Android_Honeycomb\" title=\"Android Honeycomb\">Honeycomb</a>\n",
      "</td>\n",
      "<td>3.0 – 3.2.6\n",
      "</td>\n",
      "<td>February 22, 2011\n",
      "</td>\n",
      "<td class=\"table-no\" style=\"background:#F99;vertical-align:middle;text-align:center;\">No\n",
      "</td>\n",
      "<td>11 – 13\n",
      "</td>\n",
      "<td><sup class=\"reference\" id=\"cite_ref-20\"><a href=\"#cite_note-20\">[20]</a></sup>\n",
      "</td></tr>, <tr>\n",
      "<td><a href=\"/wiki/Android_Ice_Cream_Sandwich\" title=\"Android Ice Cream Sandwich\">Ice Cream Sandwich</a>\n",
      "</td>\n",
      "<td>4.0 – 4.0.4\n",
      "</td>\n",
      "<td>October 18, 2011\n",
      "</td>\n",
      "<td class=\"table-no\" style=\"background:#F99;vertical-align:middle;text-align:center;\">No\n",
      "</td>\n",
      "<td>14 – 15\n",
      "</td>\n",
      "<td><sup class=\"reference\" id=\"cite_ref-21\"><a href=\"#cite_note-21\">[21]</a></sup>\n",
      "</td></tr>, <tr>\n",
      "<td><a href=\"/wiki/Android_Jelly_Bean\" title=\"Android Jelly Bean\">Jelly Bean</a>\n",
      "</td>\n",
      "<td>4.1 – 4.3.1\n",
      "</td>\n",
      "<td>July 9, 2012\n",
      "</td>\n",
      "<td class=\"table-no\" style=\"background:#F99;vertical-align:middle;text-align:center;\">No\n",
      "</td>\n",
      "<td>16 – 18\n",
      "</td>\n",
      "<td><sup class=\"reference\" id=\"cite_ref-22\"><a href=\"#cite_note-22\">[22]</a></sup>\n",
      "</td></tr>, <tr>\n",
      "<td><a href=\"/wiki/Android_KitKat\" title=\"Android KitKat\">KitKat</a>\n",
      "</td>\n",
      "<td>4.4 – 4.4.4\n",
      "</td>\n",
      "<td>October 31, 2013\n",
      "</td>\n",
      "<td class=\"table-no\" style=\"background:#F99;vertical-align:middle;text-align:center;\">No\n",
      "</td>\n",
      "<td>19 – 20\n",
      "</td>\n",
      "<td><sup class=\"reference\" id=\"cite_ref-23\"><a href=\"#cite_note-23\">[23]</a></sup>\n",
      "</td></tr>, <tr>\n",
      "<td><a href=\"/wiki/Android_Lollipop\" title=\"Android Lollipop\">Lollipop</a>\n",
      "</td>\n",
      "<td>5.0 – 5.1.1\n",
      "</td>\n",
      "<td>November 12, 2014\n",
      "</td>\n",
      "<td class=\"table-no\" style=\"background:#F99;vertical-align:middle;text-align:center;\">No\n",
      "</td>\n",
      "<td>21 – 22\n",
      "</td>\n",
      "<td><sup class=\"reference\" id=\"cite_ref-24\"><a href=\"#cite_note-24\">[24]</a></sup>\n",
      "</td></tr>, <tr>\n",
      "<td><a href=\"/wiki/Android_Marshmallow\" title=\"Android Marshmallow\">Marshmallow</a>\n",
      "</td>\n",
      "<td>6.0 – 6.0.1\n",
      "</td>\n",
      "<td>October 5, 2015\n",
      "</td>\n",
      "<td class=\"table-no\" style=\"background:#F99;vertical-align:middle;text-align:center;\">No\n",
      "</td>\n",
      "<td>23\n",
      "</td>\n",
      "<td><sup class=\"reference\" id=\"cite_ref-25\"><a href=\"#cite_note-25\">[25]</a></sup>\n",
      "</td></tr>, <tr>\n",
      "<td><a href=\"/wiki/Android_Nougat\" title=\"Android Nougat\">Nougat</a>\n",
      "</td>\n",
      "<td>7.0 – 7.1.2\n",
      "</td>\n",
      "<td>August 22, 2016\n",
      "</td>\n",
      "<td class=\"table-no\" style=\"background:#F99;vertical-align:middle;text-align:center;\">No\n",
      "</td>\n",
      "<td>24 – 25\n",
      "</td>\n",
      "<td><sup class=\"reference\" id=\"cite_ref-26\"><a href=\"#cite_note-26\">[26]</a></sup><sup class=\"reference\" id=\"cite_ref-27\"><a href=\"#cite_note-27\">[27]</a></sup><sup class=\"reference\" id=\"cite_ref-28\"><a href=\"#cite_note-28\">[28]</a></sup><sup class=\"reference\" id=\"cite_ref-29\"><a href=\"#cite_note-29\">[29]</a></sup>\n",
      "</td></tr>, <tr>\n",
      "<td><a href=\"/wiki/Android_Oreo\" title=\"Android Oreo\">Oreo</a>\n",
      "</td>\n",
      "<td>8.0 – 8.1\n",
      "</td>\n",
      "<td>August 21, 2017\n",
      "</td>\n",
      "<td class=\"table-yes\" style=\"background:#9F9;vertical-align:middle;text-align:center;\">Yes\n",
      "</td>\n",
      "<td>26 – 27\n",
      "</td>\n",
      "<td><sup class=\"reference\" id=\"cite_ref-30\"><a href=\"#cite_note-30\">[30]</a></sup>\n",
      "</td></tr>, <tr>\n",
      "<td><a href=\"/wiki/Android_Pie\" title=\"Android Pie\">Pie</a>\n",
      "</td>\n",
      "<td>9\n",
      "</td>\n",
      "<td>August 6, 2018\n",
      "</td>\n",
      "<td class=\"table-yes\" style=\"background:#9F9;vertical-align:middle;text-align:center;\">Yes\n",
      "</td>\n",
      "<td>28\n",
      "</td>\n",
      "<td><sup class=\"reference\" id=\"cite_ref-31\"><a href=\"#cite_note-31\">[31]</a></sup>\n",
      "</td></tr>, <tr>\n",
      "<td><a href=\"/wiki/Android_10\" title=\"Android 10\">Android 10</a>\n",
      "</td>\n",
      "<td>10\n",
      "</td>\n",
      "<td>September 3, 2019\n",
      "</td>\n",
      "<td class=\"table-yes\" style=\"background:#9F9;vertical-align:middle;text-align:center;\">Yes\n",
      "</td>\n",
      "<td>29\n",
      "</td>\n",
      "<td><sup class=\"reference\" id=\"cite_ref-32\"><a href=\"#cite_note-32\">[32]</a></sup>\n",
      "</td></tr>, <tr>\n",
      "<td><a href=\"/wiki/Android_11\" title=\"Android 11\">Android 11</a>\n",
      "</td>\n",
      "<td>11\n",
      "</td>\n",
      "<td><sup class=\"noprint Inline-Template\" style=\"white-space:nowrap;\">[<i><a href=\"/wiki/Wikipedia:What_Wikipedia_is_not#Wikipedia_is_not_a_crystal_ball\" title=\"Wikipedia:What Wikipedia is not\"><span title=\"A number, date or other piece of information needs to be added.\">to be determined</span></a></i>]</sup>\n",
      "</td>\n",
      "<td class=\"beta table-beta\" style=\"background: #DFDFFF; color: black; vertical-align: middle; text-align: center;\"><a href=\"/wiki/Software_release_life_cycle#Beta\" title=\"Software release life cycle\">Beta</a>\n",
      "</td>\n",
      "<td>30\n",
      "</td>\n",
      "<td><sup class=\"reference\" id=\"cite_ref-33\"><a href=\"#cite_note-33\">[33]</a></sup>\n",
      "</td></tr>]\n"
     ]
    }
   ],
   "source": [
    "rows_data = android_table.findAll('tr')[1:]\n",
    "print(rows_data)"
   ]
  },
  {
   "cell_type": "code",
   "execution_count": 35,
   "metadata": {},
   "outputs": [
    {
     "name": "stdout",
     "output_type": "stream",
     "text": [
      "<tr>\n",
      "<td rowspan=\"2\">No official codename\n",
      "</td>\n",
      "<td>1.0\n",
      "</td>\n",
      "<td>September 23, 2008\n",
      "</td>\n",
      "<td class=\"table-no\" style=\"background:#F99;vertical-align:middle;text-align:center;\">No\n",
      "</td>\n",
      "<td>1\n",
      "</td>\n",
      "<td><sup class=\"reference\" id=\"cite_ref-unofficial_and_official_codenames_9-1\"><a href=\"#cite_note-unofficial_and_official_codenames-9\">[9]</a></sup>\n",
      "</td></tr>\n"
     ]
    }
   ],
   "source": [
    "first_row = rows_data[0]\n",
    "print(first_row)"
   ]
  },
  {
   "cell_type": "code",
   "execution_count": 38,
   "metadata": {},
   "outputs": [
    {
     "name": "stdout",
     "output_type": "stream",
     "text": [
      "No official codename\n",
      "\n",
      "1.0\n",
      "\n",
      "September 23, 2008\n",
      "\n",
      "No\n",
      "\n",
      "1\n",
      "\n",
      "[9]\n",
      "\n"
     ]
    }
   ],
   "source": [
    "first_row = rows_data[0].findAll('td',{})\n",
    "for d in first_row:\n",
    "    print(d.text)"
   ]
  },
  {
   "cell_type": "code",
   "execution_count": 51,
   "metadata": {},
   "outputs": [],
   "source": [
    "table_rows=[]\n",
    "for row in rows_data:\n",
    "    current_row=[]\n",
    "    row_data=row.findAll('td',{})\n",
    "    for idx,data in enumerate(row_data):\n",
    "        current_row.append(data.text[:-1])\n",
    "        \n",
    "    table_rows.append(current_row)"
   ]
  },
  {
   "cell_type": "code",
   "execution_count": 52,
   "metadata": {},
   "outputs": [
    {
     "name": "stdout",
     "output_type": "stream",
     "text": [
      "[['No official codename', '1.0', 'September 23, 2008', 'No', '1', '[9]'], ['1.1', 'February 9, 2009', 'No', '2', '[9][14]'], ['Cupcake', '1.5', 'April 27, 2009', 'No', '3', '[15]'], ['Donut', '1.6', 'September 15, 2009', 'No', '4', '[16]'], ['Eclair', '2.0 – 2.1', 'October 26, 2009', 'No', '5 – 7', '[17]'], ['Froyo', '2.2 – 2.2.3', 'May 20, 2010', 'No', '8', '[18]'], ['Gingerbread', '2.3 – 2.3.7', 'December 6, 2010', 'No', '9 – 10', '[19]'], ['Honeycomb', '3.0 – 3.2.6', 'February 22, 2011', 'No', '11 – 13', '[20]'], ['Ice Cream Sandwich', '4.0 – 4.0.4', 'October 18, 2011', 'No', '14 – 15', '[21]'], ['Jelly Bean', '4.1 – 4.3.1', 'July 9, 2012', 'No', '16 – 18', '[22]'], ['KitKat', '4.4 – 4.4.4', 'October 31, 2013', 'No', '19 – 20', '[23]'], ['Lollipop', '5.0 – 5.1.1', 'November 12, 2014', 'No', '21 – 22', '[24]'], ['Marshmallow', '6.0 – 6.0.1', 'October 5, 2015', 'No', '23', '[25]'], ['Nougat', '7.0 – 7.1.2', 'August 22, 2016', 'No', '24 – 25', '[26][27][28][29]'], ['Oreo', '8.0 – 8.1', 'August 21, 2017', 'Yes', '26 – 27', '[30]'], ['Pie', '9', 'August 6, 2018', 'Yes', '28', '[31]'], ['Android 10', '10', 'September 3, 2019', 'Yes', '29', '[32]'], ['Android 11', '11', '[to be determined]', 'Beta', '30', '[33]']]\n"
     ]
    }
   ],
   "source": [
    "print(table_rows)"
   ]
  },
  {
   "cell_type": "code",
   "execution_count": 55,
   "metadata": {},
   "outputs": [
    {
     "name": "stdout",
     "output_type": "stream",
     "text": [
      "Name,Version number(s),Initial stablerelease date,Supported (security fixes),API level,References\n",
      "\n"
     ]
    }
   ],
   "source": [
    "filename='android_version_history.csv'\n",
    "with open(filename,'w') as f:\n",
    "    header_string = ','.join(column_titles)\n",
    "    header_string+='\\n'\n",
    "    f.write(header_string)\n",
    "    print(header_string)\n",
    "    \n",
    "    for row in table_rows:\n",
    "        row_string=\" \"\n",
    "        row_string = ','.join(row)\n",
    "        row_string+='\\n'\n",
    "        f.write(row_string)"
   ]
  },
  {
   "cell_type": "code",
   "execution_count": null,
   "metadata": {},
   "outputs": [],
   "source": []
  },
  {
   "cell_type": "code",
   "execution_count": null,
   "metadata": {},
   "outputs": [],
   "source": []
  }
 ],
 "metadata": {
  "kernelspec": {
   "display_name": "Python 3",
   "language": "python",
   "name": "python3"
  },
  "language_info": {
   "codemirror_mode": {
    "name": "ipython",
    "version": 3
   },
   "file_extension": ".py",
   "mimetype": "text/x-python",
   "name": "python",
   "nbconvert_exporter": "python",
   "pygments_lexer": "ipython3",
   "version": "3.7.6"
  }
 },
 "nbformat": 4,
 "nbformat_minor": 4
}
